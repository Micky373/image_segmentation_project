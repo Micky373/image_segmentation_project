{
  "nbformat": 4,
  "nbformat_minor": 0,
  "metadata": {
    "colab": {
      "provenance": [],
      "collapsed_sections": []
    },
    "kernelspec": {
      "name": "python3",
      "display_name": "Python 3"
    },
    "language_info": {
      "name": "python"
    }
  },
  "cells": [
    {
      "cell_type": "code",
      "execution_count": 4,
      "metadata": {
        "id": "seCxcdMk9AH1"
      },
      "outputs": [],
      "source": [
        "import tensorflow as tf"
      ]
    },
    {
      "cell_type": "code",
      "source": [
        "IMG_WIDTH = 128\n",
        "IMG_HEIGHT = 128\n",
        "IMG_CHANNELS = 3"
      ],
      "metadata": {
        "id": "aLoXr5Gl_gcu"
      },
      "execution_count": 5,
      "outputs": []
    },
    {
      "cell_type": "code",
      "source": [
        "inputs = tf.keras.layers.Input((IMG_WIDTH,IMG_HEIGHT,IMG_CHANNELS))"
      ],
      "metadata": {
        "id": "zvRgOesu_qd1"
      },
      "execution_count": 7,
      "outputs": []
    },
    {
      "cell_type": "code",
      "source": [
        "float_input = tf.keras.layers.Lambda(lambda x:x/255)(inputs)"
      ],
      "metadata": {
        "id": "353Ha3uzAxk_"
      },
      "execution_count": 9,
      "outputs": []
    },
    {
      "cell_type": "code",
      "source": [
        "c1 = tf.keras.layers.Conv2D(\n",
        "    16,\n",
        "    (3,3),\n",
        "    activation = 'relu',\n",
        "    kernel_initializer = 'he_normal',\n",
        "    padding = 'same')(float_input)\n",
        "c1 = tf.keras.layers.Dropout(0.1)(c1)\n",
        "c1 = tf.keras.layers.Conv2D(\n",
        "    16,\n",
        "    (3,3),\n",
        "    activation = 'relu',\n",
        "    kernel_initializer = 'he_normal',\n",
        "    padding = 'same')(c1)\n",
        "p1 = tf.keras.layers.MaxPool2D((2,2))(c1)"
      ],
      "metadata": {
        "id": "gH9rQYfzABt8"
      },
      "execution_count": 59,
      "outputs": []
    },
    {
      "cell_type": "code",
      "source": [
        "c2 = tf.keras.layers.Conv2D(\n",
        "    32,\n",
        "    (3,3),\n",
        "    activation = 'relu',\n",
        "    kernel_initializer = 'he_normal',\n",
        "    padding = 'same')(p1)\n",
        "c2 = tf.keras.layers.Dropout(0.1)(c2)\n",
        "c2 = tf.keras.layers.Conv2D(\n",
        "    32,\n",
        "    (3,3),\n",
        "    activation = 'relu',\n",
        "    kernel_initializer = 'he_normal',\n",
        "    padding = 'same')(c2)\n",
        "p2 = tf.keras.layers.MaxPool2D((2,2))(c2)"
      ],
      "metadata": {
        "id": "SBPXgaTjBW9_"
      },
      "execution_count": 60,
      "outputs": []
    },
    {
      "cell_type": "code",
      "source": [
        "c3 = tf.keras.layers.Conv2D(\n",
        "    64,\n",
        "    (3,3),\n",
        "    activation = 'relu',\n",
        "    kernel_initializer = 'he_normal',\n",
        "    padding = 'same')(p2)\n",
        "c3 = tf.keras.layers.Dropout(0.1)(c3)\n",
        "c3 = tf.keras.layers.Conv2D(\n",
        "    64,\n",
        "    (3,3),\n",
        "    activation = 'relu',\n",
        "    kernel_initializer = 'he_normal',\n",
        "    padding = 'same')(c3)\n",
        "p3 = tf.keras.layers.MaxPool2D((2,2))(c3)"
      ],
      "metadata": {
        "id": "x6dXDcf7C_4t"
      },
      "execution_count": 61,
      "outputs": []
    },
    {
      "cell_type": "code",
      "source": [
        "c4 = tf.keras.layers.Conv2D(\n",
        "    128, \n",
        "    (3, 3), \n",
        "    activation='relu', \n",
        "    kernel_initializer='he_normal', \n",
        "    padding='same')(p3)\n",
        "c4 = tf.keras.layers.Dropout(0.2)(c4)\n",
        "c4 = tf.keras.layers.Conv2D(\n",
        "    128, \n",
        "    (3, 3), \n",
        "    activation='relu', \n",
        "    kernel_initializer='he_normal', \n",
        "    padding='same')(c4)\n",
        "p4 = tf.keras.layers.MaxPooling2D((2, 2))(c4)"
      ],
      "metadata": {
        "id": "PJ0G0Pj0DXPe"
      },
      "execution_count": 62,
      "outputs": []
    },
    {
      "cell_type": "code",
      "source": [
        "c5 = tf.keras.layers.Conv2D(\n",
        "    256, \n",
        "    (3, 3), \n",
        "    activation='relu', \n",
        "    kernel_initializer='he_normal', \n",
        "    padding='same')(p4)\n",
        "c5 = tf.keras.layers.Dropout(0.3)(c5)\n",
        "c5 = tf.keras.layers.Conv2D(\n",
        "    256, \n",
        "    (3, 3), \n",
        "    activation='relu', \n",
        "    kernel_initializer='he_normal', \n",
        "    padding='same')(c5)"
      ],
      "metadata": {
        "id": "bRrHFlO9Dtxf"
      },
      "execution_count": 63,
      "outputs": []
    },
    {
      "cell_type": "code",
      "source": [
        "u6 = tf.keras.layers.Conv2DTranspose(\n",
        "    128, \n",
        "    (2,2) , \n",
        "    strides = (2,2),\n",
        "    padding = 'same')(c5)\n",
        "u6 = tf.keras.layers.concatenate([u6,c4])\n",
        "c6 = tf.keras.layers.Conv2D(\n",
        "    128, \n",
        "    (3,3),\n",
        "    activation='relu',\n",
        "    kernel_initializer='he_normal',\n",
        "    padding='same')(u6)\n",
        "c6 = tf.keras.layers.Dropout(0.3)(c6)\n",
        "c6 = tf.keras.layers.Conv2D(\n",
        "    128, \n",
        "    (3,3),\n",
        "    activation='relu',\n",
        "    kernel_initializer='he_normal',\n",
        "    padding='same')(c6)"
      ],
      "metadata": {
        "id": "01Nz7NQaFzr5"
      },
      "execution_count": 64,
      "outputs": []
    },
    {
      "cell_type": "code",
      "source": [
        "u7 = tf.keras.layers.Conv2DTranspose(\n",
        "    64, \n",
        "    (2,2) , \n",
        "    strides = (2,2),\n",
        "    padding = 'same')(c6)\n",
        "u7 = tf.keras.layers.concatenate([u7,c3])\n",
        "c7 = tf.keras.layers.Conv2D(\n",
        "    64, \n",
        "    (3,3),\n",
        "    activation='relu',\n",
        "    kernel_initializer='he_normal',\n",
        "    padding='same')(u7)\n",
        "c7 = tf.keras.layers.Dropout(0.3)(c7)\n",
        "c7 = tf.keras.layers.Conv2D(\n",
        "    64, \n",
        "    (3,3),\n",
        "    activation='relu',\n",
        "    kernel_initializer='he_normal',\n",
        "    padding='same')(c7)\n"
      ],
      "metadata": {
        "id": "5v9_t_WzHjy3"
      },
      "execution_count": 66,
      "outputs": []
    },
    {
      "cell_type": "code",
      "source": [
        "u8 = tf.keras.layers.Conv2DTranspose(\n",
        "    32, \n",
        "    (2,2) , \n",
        "    strides = (2,2),\n",
        "    padding = 'same')(c7)\n",
        "u8 = tf.keras.layers.concatenate([u8,c2])\n",
        "c8 = tf.keras.layers.Conv2D(\n",
        "    32, \n",
        "    (3,3),\n",
        "    activation='relu',\n",
        "    kernel_initializer='he_normal',\n",
        "    padding='same')(u8)\n",
        "c8 = tf.keras.layers.Dropout(0.3)(c8)\n",
        "c8 = tf.keras.layers.Conv2D(\n",
        "    32, \n",
        "    (3,3),\n",
        "    activation='relu',\n",
        "    kernel_initializer='he_normal',\n",
        "    padding='same')(c8)\n"
      ],
      "metadata": {
        "id": "g4WWB72ZICxl"
      },
      "execution_count": 68,
      "outputs": []
    },
    {
      "cell_type": "code",
      "source": [
        "u9 = tf.keras.layers.Conv2DTranspose(\n",
        "    16, \n",
        "    (2,2) , \n",
        "    strides = (2,2),\n",
        "    padding = 'same')(c8)\n",
        "u9 = tf.keras.layers.concatenate([u9,c1])\n",
        "c9 = tf.keras.layers.Conv2D(\n",
        "    16, \n",
        "    (3,3),\n",
        "    activation='relu',\n",
        "    kernel_initializer='he_normal',\n",
        "    padding='same')(u9)\n",
        "c9 = tf.keras.layers.Dropout(0.3)(c9)\n",
        "c9 = tf.keras.layers.Conv2D(\n",
        "    16, \n",
        "    (3,3),\n",
        "    activation='relu',\n",
        "    kernel_initializer='he_normal',\n",
        "    padding='same')(c9)\n"
      ],
      "metadata": {
        "id": "ix6FW1ErKkUf"
      },
      "execution_count": 70,
      "outputs": []
    },
    {
      "cell_type": "code",
      "source": [
        "outputs = tf.keras.layers.Conv2D(\n",
        "    1,\n",
        "    (1,1),\n",
        "    activation='sigmoid')(c9)"
      ],
      "metadata": {
        "id": "d8AZYw0vK2wz"
      },
      "execution_count": 71,
      "outputs": []
    },
    {
      "cell_type": "code",
      "source": [
        "model = tf.keras.Model(\n",
        "    inputs = [inputs],\n",
        "    outputs = [outputs])\n",
        "model.compile(\n",
        "    optimizer = 'adam',\n",
        "    loss = 'binary_crossentropy',\n",
        "    metrics = ['accuracy'])\n",
        "model.summary()"
      ],
      "metadata": {
        "colab": {
          "base_uri": "https://localhost:8080/"
        },
        "id": "TkB_ZgX7LT1c",
        "outputId": "b3f8d91f-fc81-44f8-cc2c-6c22224810a4"
      },
      "execution_count": 72,
      "outputs": [
        {
          "output_type": "stream",
          "name": "stdout",
          "text": [
            "Model: \"model\"\n",
            "__________________________________________________________________________________________________\n",
            " Layer (type)                   Output Shape         Param #     Connected to                     \n",
            "==================================================================================================\n",
            " input_1 (InputLayer)           [(None, 128, 128, 3  0           []                               \n",
            "                                )]                                                                \n",
            "                                                                                                  \n",
            " lambda (Lambda)                (None, 128, 128, 3)  0           ['input_1[0][0]']                \n",
            "                                                                                                  \n",
            " conv2d_87 (Conv2D)             (None, 128, 128, 16  448         ['lambda[0][0]']                 \n",
            "                                )                                                                 \n",
            "                                                                                                  \n",
            " dropout_43 (Dropout)           (None, 128, 128, 16  0           ['conv2d_87[0][0]']              \n",
            "                                )                                                                 \n",
            "                                                                                                  \n",
            " conv2d_88 (Conv2D)             (None, 128, 128, 16  2320        ['dropout_43[0][0]']             \n",
            "                                )                                                                 \n",
            "                                                                                                  \n",
            " max_pooling2d_35 (MaxPooling2D  (None, 64, 64, 16)  0           ['conv2d_88[0][0]']              \n",
            " )                                                                                                \n",
            "                                                                                                  \n",
            " conv2d_89 (Conv2D)             (None, 64, 64, 32)   4640        ['max_pooling2d_35[0][0]']       \n",
            "                                                                                                  \n",
            " dropout_44 (Dropout)           (None, 64, 64, 32)   0           ['conv2d_89[0][0]']              \n",
            "                                                                                                  \n",
            " conv2d_90 (Conv2D)             (None, 64, 64, 32)   9248        ['dropout_44[0][0]']             \n",
            "                                                                                                  \n",
            " max_pooling2d_36 (MaxPooling2D  (None, 32, 32, 32)  0           ['conv2d_90[0][0]']              \n",
            " )                                                                                                \n",
            "                                                                                                  \n",
            " conv2d_91 (Conv2D)             (None, 32, 32, 64)   18496       ['max_pooling2d_36[0][0]']       \n",
            "                                                                                                  \n",
            " dropout_45 (Dropout)           (None, 32, 32, 64)   0           ['conv2d_91[0][0]']              \n",
            "                                                                                                  \n",
            " conv2d_92 (Conv2D)             (None, 32, 32, 64)   36928       ['dropout_45[0][0]']             \n",
            "                                                                                                  \n",
            " max_pooling2d_37 (MaxPooling2D  (None, 16, 16, 64)  0           ['conv2d_92[0][0]']              \n",
            " )                                                                                                \n",
            "                                                                                                  \n",
            " conv2d_93 (Conv2D)             (None, 16, 16, 128)  73856       ['max_pooling2d_37[0][0]']       \n",
            "                                                                                                  \n",
            " dropout_46 (Dropout)           (None, 16, 16, 128)  0           ['conv2d_93[0][0]']              \n",
            "                                                                                                  \n",
            " conv2d_94 (Conv2D)             (None, 16, 16, 128)  147584      ['dropout_46[0][0]']             \n",
            "                                                                                                  \n",
            " max_pooling2d_38 (MaxPooling2D  (None, 8, 8, 128)   0           ['conv2d_94[0][0]']              \n",
            " )                                                                                                \n",
            "                                                                                                  \n",
            " conv2d_95 (Conv2D)             (None, 8, 8, 256)    295168      ['max_pooling2d_38[0][0]']       \n",
            "                                                                                                  \n",
            " dropout_47 (Dropout)           (None, 8, 8, 256)    0           ['conv2d_95[0][0]']              \n",
            "                                                                                                  \n",
            " conv2d_96 (Conv2D)             (None, 8, 8, 256)    590080      ['dropout_47[0][0]']             \n",
            "                                                                                                  \n",
            " conv2d_transpose_8 (Conv2DTran  (None, 16, 16, 128)  131200     ['conv2d_96[0][0]']              \n",
            " spose)                                                                                           \n",
            "                                                                                                  \n",
            " concatenate_8 (Concatenate)    (None, 16, 16, 256)  0           ['conv2d_transpose_8[0][0]',     \n",
            "                                                                  'conv2d_94[0][0]']              \n",
            "                                                                                                  \n",
            " conv2d_97 (Conv2D)             (None, 16, 16, 128)  295040      ['concatenate_8[0][0]']          \n",
            "                                                                                                  \n",
            " dropout_48 (Dropout)           (None, 16, 16, 128)  0           ['conv2d_97[0][0]']              \n",
            "                                                                                                  \n",
            " conv2d_98 (Conv2D)             (None, 16, 16, 128)  147584      ['dropout_48[0][0]']             \n",
            "                                                                                                  \n",
            " conv2d_transpose_10 (Conv2DTra  (None, 32, 32, 64)  32832       ['conv2d_98[0][0]']              \n",
            " nspose)                                                                                          \n",
            "                                                                                                  \n",
            " concatenate_10 (Concatenate)   (None, 32, 32, 128)  0           ['conv2d_transpose_10[0][0]',    \n",
            "                                                                  'conv2d_92[0][0]']              \n",
            "                                                                                                  \n",
            " conv2d_101 (Conv2D)            (None, 32, 32, 64)   73792       ['concatenate_10[0][0]']         \n",
            "                                                                                                  \n",
            " dropout_50 (Dropout)           (None, 32, 32, 64)   0           ['conv2d_101[0][0]']             \n",
            "                                                                                                  \n",
            " conv2d_102 (Conv2D)            (None, 32, 32, 64)   36928       ['dropout_50[0][0]']             \n",
            "                                                                                                  \n",
            " conv2d_transpose_12 (Conv2DTra  (None, 64, 64, 32)  8224        ['conv2d_102[0][0]']             \n",
            " nspose)                                                                                          \n",
            "                                                                                                  \n",
            " concatenate_12 (Concatenate)   (None, 64, 64, 64)   0           ['conv2d_transpose_12[0][0]',    \n",
            "                                                                  'conv2d_90[0][0]']              \n",
            "                                                                                                  \n",
            " conv2d_103 (Conv2D)            (None, 64, 64, 32)   18464       ['concatenate_12[0][0]']         \n",
            "                                                                                                  \n",
            " dropout_51 (Dropout)           (None, 64, 64, 32)   0           ['conv2d_103[0][0]']             \n",
            "                                                                                                  \n",
            " conv2d_104 (Conv2D)            (None, 64, 64, 32)   9248        ['dropout_51[0][0]']             \n",
            "                                                                                                  \n",
            " conv2d_transpose_14 (Conv2DTra  (None, 128, 128, 16  2064       ['conv2d_104[0][0]']             \n",
            " nspose)                        )                                                                 \n",
            "                                                                                                  \n",
            " concatenate_14 (Concatenate)   (None, 128, 128, 32  0           ['conv2d_transpose_14[0][0]',    \n",
            "                                )                                 'conv2d_88[0][0]']              \n",
            "                                                                                                  \n",
            " conv2d_105 (Conv2D)            (None, 128, 128, 16  4624        ['concatenate_14[0][0]']         \n",
            "                                )                                                                 \n",
            "                                                                                                  \n",
            " dropout_52 (Dropout)           (None, 128, 128, 16  0           ['conv2d_105[0][0]']             \n",
            "                                )                                                                 \n",
            "                                                                                                  \n",
            " conv2d_106 (Conv2D)            (None, 128, 128, 16  2320        ['dropout_52[0][0]']             \n",
            "                                )                                                                 \n",
            "                                                                                                  \n",
            " conv2d_107 (Conv2D)            (None, 128, 128, 1)  17          ['conv2d_106[0][0]']             \n",
            "                                                                                                  \n",
            "==================================================================================================\n",
            "Total params: 1,941,105\n",
            "Trainable params: 1,941,105\n",
            "Non-trainable params: 0\n",
            "__________________________________________________________________________________________________\n"
          ]
        }
      ]
    },
    {
      "cell_type": "code",
      "source": [],
      "metadata": {
        "id": "4Kkp59uIL55X"
      },
      "execution_count": null,
      "outputs": []
    }
  ]
}